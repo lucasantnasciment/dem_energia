{
 "cells": [
  {
   "cell_type": "code",
   "execution_count": null,
   "id": "dcf98add",
   "metadata": {},
   "outputs": [],
   "source": [
    "import pandas as pd\n",
    "\n",
    "print(pd.__version__)\n",
    "\n",
    "data = {\n",
    "    \"Nome\": [\"Ana\", \"Bruno\", \"Carlos\", \"Diana\"],\n",
    "    \"Idade\": [23, 35, 29, 42],\n",
    "    \"Salário\": [3500, 5000, 4200, 6000]\n",
    "}\n",
    "df = pd.DataFrame(data)\n",
    "print(df)\n",
    "\n",
    "df = pd.read_csv(\"funcionarios.csv\")\n",
    "df = pd.read_json(\"funcionarios.json\")\n",
    "\n",
    "print(df.head())\n",
    "print(df.info())\n",
    "print(df.describe())\n"
   ]
  }
 ],
 "metadata": {
  "kernelspec": {
   "display_name": ".env",
   "language": "python",
   "name": "python3"
  },
  "language_info": {
   "name": "python",
   "version": "3.13.4"
  }
 },
 "nbformat": 4,
 "nbformat_minor": 5
}
